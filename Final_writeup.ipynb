{
 "cells": [
  {
   "cell_type": "markdown",
   "metadata": {},
   "source": [
    "Validus IV Func model case study. I have taken spot as the 1st of may and used that as the date to build all forward points. I have only gone 1 year out for brevity but if I extended the example data the files should work as intended.\n",
    "\n",
    "to install packages use.\n",
    "\n",
    "python3 -m pip install --index-url https://test.pypi.org/simple/ --no-deps validus-pkg-test"
   ]
  },
  {
   "cell_type": "code",
   "execution_count": 97,
   "metadata": {},
   "outputs": [],
   "source": [
    "## first want to import data and packages created \n",
    "import validus_pkg_test\n",
    "import validus_pkg_test.SV_MC\n",
    "import validus_pkg_test.Fund_Model\n",
    "import numpy as np\n",
    "import pandas as pd\n",
    "import matplotlib.pyplot as plt\n",
    "from scipy import stats\n",
    "\n",
    "#excel files containing relevant data\n",
    "CF_data = pd.read_excel('ValidusIV_CF.xlsx', index_col=0)\n",
    "CCY_data = pd.read_excel('ForwardCurves.xlsx',index_col = 0)\n",
    "returns_data = pd.read_excel('Data_extract_nonlogged.xlsx',index_col=0)"
   ]
  },
  {
   "cell_type": "code",
   "execution_count": 40,
   "metadata": {},
   "outputs": [
    {
     "data": {
      "text/html": [
       "<div>\n",
       "<style scoped>\n",
       "    .dataframe tbody tr th:only-of-type {\n",
       "        vertical-align: middle;\n",
       "    }\n",
       "\n",
       "    .dataframe tbody tr th {\n",
       "        vertical-align: top;\n",
       "    }\n",
       "\n",
       "    .dataframe thead th {\n",
       "        text-align: right;\n",
       "    }\n",
       "</style>\n",
       "<table border=\"1\" class=\"dataframe\">\n",
       "  <thead>\n",
       "    <tr style=\"text-align: right;\">\n",
       "      <th></th>\n",
       "      <th>USD</th>\n",
       "      <th>GBP</th>\n",
       "      <th>EUR</th>\n",
       "    </tr>\n",
       "    <tr>\n",
       "      <th>CashFlow Date</th>\n",
       "      <th></th>\n",
       "      <th></th>\n",
       "      <th></th>\n",
       "    </tr>\n",
       "  </thead>\n",
       "  <tbody>\n",
       "    <tr>\n",
       "      <th>2019-04-01</th>\n",
       "      <td>-100000</td>\n",
       "      <td>-100000</td>\n",
       "      <td>-100000</td>\n",
       "    </tr>\n",
       "    <tr>\n",
       "      <th>2019-05-01</th>\n",
       "      <td>0</td>\n",
       "      <td>10000</td>\n",
       "      <td>0</td>\n",
       "    </tr>\n",
       "    <tr>\n",
       "      <th>2019-06-01</th>\n",
       "      <td>10000</td>\n",
       "      <td>1000</td>\n",
       "      <td>0</td>\n",
       "    </tr>\n",
       "    <tr>\n",
       "      <th>2019-07-01</th>\n",
       "      <td>10000</td>\n",
       "      <td>1000</td>\n",
       "      <td>0</td>\n",
       "    </tr>\n",
       "    <tr>\n",
       "      <th>2019-08-01</th>\n",
       "      <td>0</td>\n",
       "      <td>1000</td>\n",
       "      <td>0</td>\n",
       "    </tr>\n",
       "  </tbody>\n",
       "</table>\n",
       "</div>"
      ],
      "text/plain": [
       "                  USD     GBP     EUR\n",
       "CashFlow Date                        \n",
       "2019-04-01    -100000 -100000 -100000\n",
       "2019-05-01          0   10000       0\n",
       "2019-06-01      10000    1000       0\n",
       "2019-07-01      10000    1000       0\n",
       "2019-08-01          0    1000       0"
      ]
     },
     "execution_count": 40,
     "metadata": {},
     "output_type": "execute_result"
    }
   ],
   "source": [
    "# this file is a simple cash flow of the fund broken out into different ccys USD GBP and EUR\n",
    "CF_data.head()"
   ]
  },
  {
   "cell_type": "code",
   "execution_count": 41,
   "metadata": {},
   "outputs": [
    {
     "data": {
      "text/html": [
       "<div>\n",
       "<style scoped>\n",
       "    .dataframe tbody tr th:only-of-type {\n",
       "        vertical-align: middle;\n",
       "    }\n",
       "\n",
       "    .dataframe tbody tr th {\n",
       "        vertical-align: top;\n",
       "    }\n",
       "\n",
       "    .dataframe thead th {\n",
       "        text-align: right;\n",
       "    }\n",
       "</style>\n",
       "<table border=\"1\" class=\"dataframe\">\n",
       "  <thead>\n",
       "    <tr style=\"text-align: right;\">\n",
       "      <th></th>\n",
       "      <th>EURUSD</th>\n",
       "      <th>GBPUSD</th>\n",
       "      <th>EURGBP</th>\n",
       "    </tr>\n",
       "    <tr>\n",
       "      <th>CCY</th>\n",
       "      <th></th>\n",
       "      <th></th>\n",
       "      <th></th>\n",
       "    </tr>\n",
       "  </thead>\n",
       "  <tbody>\n",
       "    <tr>\n",
       "      <th>Spot</th>\n",
       "      <td>1.121300</td>\n",
       "      <td>1.310300</td>\n",
       "      <td>0.855840</td>\n",
       "    </tr>\n",
       "    <tr>\n",
       "      <th>1M</th>\n",
       "      <td>1.124141</td>\n",
       "      <td>1.312270</td>\n",
       "      <td>0.856722</td>\n",
       "    </tr>\n",
       "    <tr>\n",
       "      <th>2M</th>\n",
       "      <td>1.127050</td>\n",
       "      <td>1.314264</td>\n",
       "      <td>0.857634</td>\n",
       "    </tr>\n",
       "    <tr>\n",
       "      <th>3M</th>\n",
       "      <td>1.129946</td>\n",
       "      <td>1.316255</td>\n",
       "      <td>0.858539</td>\n",
       "    </tr>\n",
       "    <tr>\n",
       "      <th>4M</th>\n",
       "      <td>1.133012</td>\n",
       "      <td>1.318318</td>\n",
       "      <td>0.859521</td>\n",
       "    </tr>\n",
       "  </tbody>\n",
       "</table>\n",
       "</div>"
      ],
      "text/plain": [
       "        EURUSD    GBPUSD    EURGBP\n",
       "CCY                               \n",
       "Spot  1.121300  1.310300  0.855840\n",
       "1M    1.124141  1.312270  0.856722\n",
       "2M    1.127050  1.314264  0.857634\n",
       "3M    1.129946  1.316255  0.858539\n",
       "4M    1.133012  1.318318  0.859521"
      ]
     },
     "execution_count": 41,
     "metadata": {},
     "output_type": "execute_result"
    }
   ],
   "source": [
    "#this file created from the market data provided using the forward points and linearly interpolating \n",
    "#for missing values \n",
    "# \n",
    "CCY_data.head()"
   ]
  },
  {
   "cell_type": "code",
   "execution_count": 42,
   "metadata": {},
   "outputs": [
    {
     "data": {
      "text/html": [
       "<div>\n",
       "<style scoped>\n",
       "    .dataframe tbody tr th:only-of-type {\n",
       "        vertical-align: middle;\n",
       "    }\n",
       "\n",
       "    .dataframe tbody tr th {\n",
       "        vertical-align: top;\n",
       "    }\n",
       "\n",
       "    .dataframe thead th {\n",
       "        text-align: right;\n",
       "    }\n",
       "</style>\n",
       "<table border=\"1\" class=\"dataframe\">\n",
       "  <thead>\n",
       "    <tr style=\"text-align: right;\">\n",
       "      <th></th>\n",
       "      <th>EURUSD return</th>\n",
       "      <th>GBPUSD return</th>\n",
       "      <th>EURGBP return</th>\n",
       "      <th>Implied Volatility EURUSD</th>\n",
       "      <th>Implied Volatility GBPUSD</th>\n",
       "      <th>Implied Volatility EURGBP</th>\n",
       "    </tr>\n",
       "  </thead>\n",
       "  <tbody>\n",
       "    <tr>\n",
       "      <th>2000-01-05</th>\n",
       "      <td>0.242813</td>\n",
       "      <td>0.403423</td>\n",
       "      <td>-0.182685</td>\n",
       "      <td>20.00</td>\n",
       "      <td>13.0</td>\n",
       "      <td>7.0</td>\n",
       "    </tr>\n",
       "    <tr>\n",
       "      <th>2000-01-06</th>\n",
       "      <td>0.067823</td>\n",
       "      <td>0.292220</td>\n",
       "      <td>-0.222806</td>\n",
       "      <td>20.00</td>\n",
       "      <td>13.0</td>\n",
       "      <td>7.0</td>\n",
       "    </tr>\n",
       "    <tr>\n",
       "      <th>2000-01-07</th>\n",
       "      <td>-0.319520</td>\n",
       "      <td>-0.491684</td>\n",
       "      <td>0.175453</td>\n",
       "      <td>20.00</td>\n",
       "      <td>13.0</td>\n",
       "      <td>7.0</td>\n",
       "    </tr>\n",
       "    <tr>\n",
       "      <th>2000-01-10</th>\n",
       "      <td>-0.378825</td>\n",
       "      <td>-0.115903</td>\n",
       "      <td>-0.270679</td>\n",
       "      <td>11.75</td>\n",
       "      <td>13.0</td>\n",
       "      <td>7.0</td>\n",
       "    </tr>\n",
       "    <tr>\n",
       "      <th>2000-01-11</th>\n",
       "      <td>0.780031</td>\n",
       "      <td>0.616832</td>\n",
       "      <td>0.143690</td>\n",
       "      <td>12.25</td>\n",
       "      <td>13.0</td>\n",
       "      <td>7.0</td>\n",
       "    </tr>\n",
       "  </tbody>\n",
       "</table>\n",
       "</div>"
      ],
      "text/plain": [
       "            EURUSD return  GBPUSD return  EURGBP return  \\\n",
       "2000-01-05       0.242813       0.403423      -0.182685   \n",
       "2000-01-06       0.067823       0.292220      -0.222806   \n",
       "2000-01-07      -0.319520      -0.491684       0.175453   \n",
       "2000-01-10      -0.378825      -0.115903      -0.270679   \n",
       "2000-01-11       0.780031       0.616832       0.143690   \n",
       "\n",
       "            Implied Volatility EURUSD  Implied Volatility GBPUSD  \\\n",
       "2000-01-05                      20.00                       13.0   \n",
       "2000-01-06                      20.00                       13.0   \n",
       "2000-01-07                      20.00                       13.0   \n",
       "2000-01-10                      11.75                       13.0   \n",
       "2000-01-11                      12.25                       13.0   \n",
       "\n",
       "            Implied Volatility EURGBP  \n",
       "2000-01-05                        7.0  \n",
       "2000-01-06                        7.0  \n",
       "2000-01-07                        7.0  \n",
       "2000-01-10                        7.0  \n",
       "2000-01-11                        7.0  "
      ]
     },
     "execution_count": 42,
     "metadata": {},
     "output_type": "execute_result"
    }
   ],
   "source": [
    "# this file is the non-logged return data and the implied volatility for each date and CCY pair from market data\n",
    "returns_data.head()"
   ]
  },
  {
   "cell_type": "markdown",
   "metadata": {},
   "source": [
    "The first step I will present is the implementation of a stochastic volatility model to come up with volatililty forecasts which willbe used to give a potential impact scenario analysis for the funds FX exposure. I will use the last 100 days of return data to build my model."
   ]
  },
  {
   "cell_type": "code",
   "execution_count": 44,
   "metadata": {},
   "outputs": [],
   "source": [
    "\n",
    "GBPUSD = returns_data['GBPUSD return'][4927:5026]\n",
    "EURUSD = returns_data['EURUSD return'][4927:5026]\n",
    "\n",
    "\n",
    "# The below function implements a maximum likelihood method for ewtimating the parameters \n",
    "# in a stochastic volatility model this will take some time to run if re-run\n",
    "\n",
    "## model parameter estimate for EURUSD\n",
    "x = validus_pkg_test.SV_MC.maximum_like(60,60,200,EURUSD)\n",
    "\n",
    "##model parameter estimate for GBPUSD\n",
    "y = validus_pkg_test.SV_MC.maximum_like(60,60,200,GBPUSD)"
   ]
  },
  {
   "cell_type": "code",
   "execution_count": 48,
   "metadata": {},
   "outputs": [
    {
     "data": {
      "text/plain": [
       "Text(0.5, 1.0, 'EURUSD volatility estimate past 100 days')"
      ]
     },
     "execution_count": 48,
     "metadata": {},
     "output_type": "execute_result"
    },
    {
     "data": {
      "image/png": "[encoded data removed]",
      "text/plain": [
       "<Figure size 432x288 with 1 Axes>"
      ]
     },
     "metadata": {
      "needs_background": "light"
     },
     "output_type": "display_data"
    }
   ],
   "source": [
    "## here I have used a function that estimates the underlying volatility based on observed returns data \n",
    "p = validus_pkg_test.SV_MC.SIR_Stoch_vol(N=1000,Y=EURUSD,rho=x['rho'],beta=1,sigma=x['sigma'])\n",
    "plt.plot(np.exp(p[0]/2)*np.sqrt(252),color=\"black\")\n",
    "plt.title('EURUSD volatility estimate past 100 days')\n"
   ]
  },
  {
   "cell_type": "code",
   "execution_count": 50,
   "metadata": {},
   "outputs": [
    {
     "data": {
      "text/plain": [
       "Text(0.5, 1.0, 'GBPUSD volatility estimate past 100 days')"
      ]
     },
     "execution_count": 50,
     "metadata": {},
     "output_type": "execute_result"
    },
    {
     "data": {
      "image/png": "[encoded data removed]",
      "text/plain": [
       "<Figure size 432x288 with 1 Axes>"
      ]
     },
     "metadata": {
      "needs_background": "light"
     },
     "output_type": "display_data"
    }
   ],
   "source": [
    "q = validus_pkg_test.SV_MC.SIR_Stoch_vol(N=1000,Y=GBPUSD,rho=y['rho'],beta=1,sigma=y['sigma'])\n",
    "plt.plot(np.exp(q[0]/2)*np.sqrt(252),color=\"black\")\n",
    "plt.title('GBPUSD volatility estimate past 100 days')"
   ]
  },
  {
   "cell_type": "code",
   "execution_count": 51,
   "metadata": {},
   "outputs": [
    {
     "data": {
      "text/plain": [
       "Text(0.5, 1.0, 'EURUSD volatility estimate next year')"
      ]
     },
     "execution_count": 51,
     "metadata": {},
     "output_type": "execute_result"
    },
    {
     "data": {
      "image/png": "[encoded data removed]",
      "text/plain": [
       "<Figure size 432x288 with 1 Axes>"
      ]
     },
     "metadata": {
      "needs_background": "light"
     },
     "output_type": "display_data"
    }
   ],
   "source": [
    "## using the model parameters that we have estimated above run volatility model 1000 times out to 1 year \n",
    "# to get estimate for future volatility\n",
    "p = validus_pkg_test.SV_MC.stochastic_volatility_run(N=1000,T=252,rho=x['rho'],beta=1,sigma=x['sigma'],x0=0)\n",
    "plt.plot(np.sqrt(252)*np.exp(p/2))\n",
    "plt.title('EURUSD volatility estimate next year')"
   ]
  },
  {
   "cell_type": "code",
   "execution_count": 52,
   "metadata": {},
   "outputs": [
    {
     "data": {
      "text/plain": [
       "Text(0.5, 1.0, 'GBPUSD volatility estimate next year')"
      ]
     },
     "execution_count": 52,
     "metadata": {},
     "output_type": "execute_result"
    },
    {
     "data": {
      "image/png": "[encoded data removed]",
      "text/plain": [
       "<Figure size 432x288 with 1 Axes>"
      ]
     },
     "metadata": {
      "needs_background": "light"
     },
     "output_type": "display_data"
    }
   ],
   "source": [
    "q = validus_pkg_test.SV_MC.stochastic_volatility_run(N=1000,T=252,rho=y['rho'],beta=1,sigma=y['sigma'],x0=0)\n",
    "plt.plot(np.sqrt(252)*np.exp(q/2))\n",
    "plt.title('GBPUSD volatility estimate next year')"
   ]
  },
  {
   "cell_type": "markdown",
   "metadata": {},
   "source": [
    "From plots it looks like the model does well at estimating past levels of volatility but falls down estimating into the future with the levels of volatility looking far too high, this is could be due to many factors most likely the poor estimating procedure and the significant MC variance produced by the SIR method. Smooothing algorithms and using many more sample paths would likely improve the models performance."
   ]
  },
  {
   "cell_type": "code",
   "execution_count": 68,
   "metadata": {},
   "outputs": [
    {
     "data": {
      "text/html": [
       "<div>\n",
       "<style scoped>\n",
       "    .dataframe tbody tr th:only-of-type {\n",
       "        vertical-align: middle;\n",
       "    }\n",
       "\n",
       "    .dataframe tbody tr th {\n",
       "        vertical-align: top;\n",
       "    }\n",
       "\n",
       "    .dataframe thead th {\n",
       "        text-align: right;\n",
       "    }\n",
       "</style>\n",
       "<table border=\"1\" class=\"dataframe\">\n",
       "  <thead>\n",
       "    <tr style=\"text-align: right;\">\n",
       "      <th></th>\n",
       "      <th>EURUSD</th>\n",
       "      <th>GBPUSD</th>\n",
       "    </tr>\n",
       "  </thead>\n",
       "  <tbody>\n",
       "    <tr>\n",
       "      <th>0</th>\n",
       "      <td>1.000000</td>\n",
       "      <td>1.000000</td>\n",
       "    </tr>\n",
       "    <tr>\n",
       "      <th>1</th>\n",
       "      <td>0.910182</td>\n",
       "      <td>0.910182</td>\n",
       "    </tr>\n",
       "    <tr>\n",
       "      <th>2</th>\n",
       "      <td>0.868561</td>\n",
       "      <td>0.871216</td>\n",
       "    </tr>\n",
       "    <tr>\n",
       "      <th>3</th>\n",
       "      <td>0.840153</td>\n",
       "      <td>0.838489</td>\n",
       "    </tr>\n",
       "    <tr>\n",
       "      <th>4</th>\n",
       "      <td>0.816276</td>\n",
       "      <td>0.820161</td>\n",
       "    </tr>\n",
       "    <tr>\n",
       "      <th>5</th>\n",
       "      <td>0.791688</td>\n",
       "      <td>0.793977</td>\n",
       "    </tr>\n",
       "    <tr>\n",
       "      <th>6</th>\n",
       "      <td>0.782843</td>\n",
       "      <td>0.777178</td>\n",
       "    </tr>\n",
       "    <tr>\n",
       "      <th>7</th>\n",
       "      <td>0.778723</td>\n",
       "      <td>0.755441</td>\n",
       "    </tr>\n",
       "    <tr>\n",
       "      <th>8</th>\n",
       "      <td>0.749373</td>\n",
       "      <td>0.741943</td>\n",
       "    </tr>\n",
       "    <tr>\n",
       "      <th>9</th>\n",
       "      <td>0.733971</td>\n",
       "      <td>0.720434</td>\n",
       "    </tr>\n",
       "    <tr>\n",
       "      <th>10</th>\n",
       "      <td>0.713175</td>\n",
       "      <td>0.719263</td>\n",
       "    </tr>\n",
       "    <tr>\n",
       "      <th>11</th>\n",
       "      <td>0.713075</td>\n",
       "      <td>0.699636</td>\n",
       "    </tr>\n",
       "    <tr>\n",
       "      <th>12</th>\n",
       "      <td>0.696020</td>\n",
       "      <td>0.675114</td>\n",
       "    </tr>\n",
       "  </tbody>\n",
       "</table>\n",
       "</div>"
      ],
      "text/plain": [
       "      EURUSD    GBPUSD\n",
       "0   1.000000  1.000000\n",
       "1   0.910182  0.910182\n",
       "2   0.868561  0.871216\n",
       "3   0.840153  0.838489\n",
       "4   0.816276  0.820161\n",
       "5   0.791688  0.793977\n",
       "6   0.782843  0.777178\n",
       "7   0.778723  0.755441\n",
       "8   0.749373  0.741943\n",
       "9   0.733971  0.720434\n",
       "10  0.713175  0.719263\n",
       "11  0.713075  0.699636\n",
       "12  0.696020  0.675114"
      ]
     },
     "execution_count": 68,
     "metadata": {},
     "output_type": "execute_result"
    }
   ],
   "source": [
    "## this funciton returns 95% lower bound of percentage movements based on forecasted volatility \n",
    "### should really return the upper and lower bound as will depend on what CCY you view as functional \n",
    "m = validus_pkg_test.SV_MC.vol_curve(p)\n",
    "n = validus_pkg_test.SV_MC.vol_curve(q)\n",
    "\n",
    "# this bit is done poorly the function above should return a 1 in the first row have done manually here.\n",
    "vol_scenarios = pd.DataFrame({'EURUSD':m,'GBPUSD':n})\n",
    "vol_scenarios.loc[-1] = [1,1]  # adding a row\n",
    "vol_scenarios.index = vol_scenarios.index + 1  # shifting index\n",
    "vol_scenarios = vol_scenarios.sort_index()\n",
    "vol_scenarios"
   ]
  },
  {
   "cell_type": "markdown",
   "metadata": {},
   "source": [
    "Now using the second file in the package Fund_Model which allows for the creation of Fund classes, I will demonstrate below the functionality installed and the use of the curves found above for analysis."
   ]
  },
  {
   "cell_type": "code",
   "execution_count": 57,
   "metadata": {},
   "outputs": [],
   "source": [
    "# need to pass some cash flow data, a functional currency and some forward fx curves\n",
    "Validus4 = validus_pkg_test.Fund_Model.Fund(CF_data,'USD',CCY_data)"
   ]
  },
  {
   "cell_type": "code",
   "execution_count": 58,
   "metadata": {},
   "outputs": [
    {
     "data": {
      "text/html": [
       "<div>\n",
       "<style scoped>\n",
       "    .dataframe tbody tr th:only-of-type {\n",
       "        vertical-align: middle;\n",
       "    }\n",
       "\n",
       "    .dataframe tbody tr th {\n",
       "        vertical-align: top;\n",
       "    }\n",
       "\n",
       "    .dataframe thead th {\n",
       "        text-align: right;\n",
       "    }\n",
       "</style>\n",
       "<table border=\"1\" class=\"dataframe\">\n",
       "  <thead>\n",
       "    <tr style=\"text-align: right;\">\n",
       "      <th></th>\n",
       "      <th>USD</th>\n",
       "      <th>GBP</th>\n",
       "      <th>EUR</th>\n",
       "    </tr>\n",
       "    <tr>\n",
       "      <th>CashFlow Date</th>\n",
       "      <th></th>\n",
       "      <th></th>\n",
       "      <th></th>\n",
       "    </tr>\n",
       "  </thead>\n",
       "  <tbody>\n",
       "    <tr>\n",
       "      <th>2019-04-01</th>\n",
       "      <td>-100000</td>\n",
       "      <td>-100000</td>\n",
       "      <td>-100000</td>\n",
       "    </tr>\n",
       "    <tr>\n",
       "      <th>2019-05-01</th>\n",
       "      <td>0</td>\n",
       "      <td>10000</td>\n",
       "      <td>0</td>\n",
       "    </tr>\n",
       "    <tr>\n",
       "      <th>2019-06-01</th>\n",
       "      <td>10000</td>\n",
       "      <td>1000</td>\n",
       "      <td>0</td>\n",
       "    </tr>\n",
       "    <tr>\n",
       "      <th>2019-07-01</th>\n",
       "      <td>10000</td>\n",
       "      <td>1000</td>\n",
       "      <td>0</td>\n",
       "    </tr>\n",
       "    <tr>\n",
       "      <th>2019-08-01</th>\n",
       "      <td>0</td>\n",
       "      <td>1000</td>\n",
       "      <td>0</td>\n",
       "    </tr>\n",
       "  </tbody>\n",
       "</table>\n",
       "</div>"
      ],
      "text/plain": [
       "                  USD     GBP     EUR\n",
       "CashFlow Date                        \n",
       "2019-04-01    -100000 -100000 -100000\n",
       "2019-05-01          0   10000       0\n",
       "2019-06-01      10000    1000       0\n",
       "2019-07-01      10000    1000       0\n",
       "2019-08-01          0    1000       0"
      ]
     },
     "execution_count": 58,
     "metadata": {},
     "output_type": "execute_result"
    }
   ],
   "source": [
    "Validus4.cashflows.head()"
   ]
  },
  {
   "cell_type": "code",
   "execution_count": 59,
   "metadata": {},
   "outputs": [
    {
     "data": {
      "text/html": [
       "<div>\n",
       "<style scoped>\n",
       "    .dataframe tbody tr th:only-of-type {\n",
       "        vertical-align: middle;\n",
       "    }\n",
       "\n",
       "    .dataframe tbody tr th {\n",
       "        vertical-align: top;\n",
       "    }\n",
       "\n",
       "    .dataframe thead th {\n",
       "        text-align: right;\n",
       "    }\n",
       "</style>\n",
       "<table border=\"1\" class=\"dataframe\">\n",
       "  <thead>\n",
       "    <tr style=\"text-align: right;\">\n",
       "      <th></th>\n",
       "      <th>EURUSD</th>\n",
       "      <th>GBPUSD</th>\n",
       "      <th>EURGBP</th>\n",
       "    </tr>\n",
       "    <tr>\n",
       "      <th>CCY</th>\n",
       "      <th></th>\n",
       "      <th></th>\n",
       "      <th></th>\n",
       "    </tr>\n",
       "  </thead>\n",
       "  <tbody>\n",
       "    <tr>\n",
       "      <th>Spot</th>\n",
       "      <td>1.121300</td>\n",
       "      <td>1.310300</td>\n",
       "      <td>0.855840</td>\n",
       "    </tr>\n",
       "    <tr>\n",
       "      <th>1M</th>\n",
       "      <td>1.124141</td>\n",
       "      <td>1.312270</td>\n",
       "      <td>0.856722</td>\n",
       "    </tr>\n",
       "    <tr>\n",
       "      <th>2M</th>\n",
       "      <td>1.127050</td>\n",
       "      <td>1.314264</td>\n",
       "      <td>0.857634</td>\n",
       "    </tr>\n",
       "    <tr>\n",
       "      <th>3M</th>\n",
       "      <td>1.129946</td>\n",
       "      <td>1.316255</td>\n",
       "      <td>0.858539</td>\n",
       "    </tr>\n",
       "    <tr>\n",
       "      <th>4M</th>\n",
       "      <td>1.133012</td>\n",
       "      <td>1.318318</td>\n",
       "      <td>0.859521</td>\n",
       "    </tr>\n",
       "  </tbody>\n",
       "</table>\n",
       "</div>"
      ],
      "text/plain": [
       "        EURUSD    GBPUSD    EURGBP\n",
       "CCY                               \n",
       "Spot  1.121300  1.310300  0.855840\n",
       "1M    1.124141  1.312270  0.856722\n",
       "2M    1.127050  1.314264  0.857634\n",
       "3M    1.129946  1.316255  0.858539\n",
       "4M    1.133012  1.318318  0.859521"
      ]
     },
     "execution_count": 59,
     "metadata": {},
     "output_type": "execute_result"
    }
   ],
   "source": [
    "Validus4.ccy_curves.head()"
   ]
  },
  {
   "cell_type": "code",
   "execution_count": 60,
   "metadata": {},
   "outputs": [
    {
     "data": {
      "text/plain": [
       "0.02094921447218434"
      ]
     },
     "execution_count": 60,
     "metadata": {},
     "output_type": "execute_result"
    }
   ],
   "source": [
    "# simple function to return the IRR of a given CCY cashflow\n",
    "Validus4.IRR('EUR')"
   ]
  },
  {
   "cell_type": "code",
   "execution_count": 61,
   "metadata": {},
   "outputs": [
    {
     "data": {
      "text/plain": [
       "CashFlow Date\n",
       "2019-04-01   -343160.000000\n",
       "2019-05-01     13122.700000\n",
       "2019-06-01     11314.264000\n",
       "2019-07-01     11316.255000\n",
       "2019-08-01      1318.318000\n",
       "2019-09-01      1320.105000\n",
       "2019-10-01     45989.910000\n",
       "2019-11-01     85783.893333\n",
       "2019-12-01     57959.673333\n",
       "2020-01-01     69500.900000\n",
       "2020-02-01     43028.285000\n",
       "2020-03-01     33109.570000\n",
       "2020-04-01     11595.427500\n",
       "dtype: float64"
      ]
     },
     "execution_count": 61,
     "metadata": {},
     "output_type": "execute_result"
    }
   ],
   "source": [
    "## this returns the total cashflow in the functional CCY which can be used to calculate a total IRR\n",
    "total = Validus4.totalCF(Validus4.ccy_curves)\n",
    "total"
   ]
  },
  {
   "cell_type": "code",
   "execution_count": 76,
   "metadata": {},
   "outputs": [
    {
     "data": {
      "text/plain": [
       "1.5198154117977092"
      ]
     },
     "execution_count": 76,
     "metadata": {},
     "output_type": "execute_result"
    }
   ],
   "source": [
    "# can return the total irr \n",
    "l = np.irr(total)\n",
    "l*100"
   ]
  },
  {
   "cell_type": "code",
   "execution_count": 89,
   "metadata": {},
   "outputs": [
    {
     "data": {
      "text/plain": [
       "Text(0.5, 1.0, 'GBPUSD 95% forecast')"
      ]
     },
     "execution_count": 89,
     "metadata": {},
     "output_type": "execute_result"
    },
    {
     "data": {
      "image/png": "[encoded data removed]",
      "text/plain": [
       "<Figure size 432x288 with 2 Axes>"
      ]
     },
     "metadata": {
      "needs_background": "light"
     },
     "output_type": "display_data"
    }
   ],
   "source": [
    "## now using the volatility scenario created to test how the cashflows and hence IRR is affected\n",
    "\n",
    "# this returns stressed CCY curves can see GBP and EUR weakening against USD\n",
    "y = Validus4.scenario_analysis(vol_scenarios)\n",
    "plt.subplot(1,2,1)\n",
    "plt.plot(y['EURUSD'])\n",
    "plt.title('EURUSD 95% forecast')\n",
    "plt.subplot(1,2,2)\n",
    "plt.plot(y['GBPUSD'])\n",
    "plt.title('GBPUSD 95% forecast')\n"
   ]
  },
  {
   "cell_type": "code",
   "execution_count": null,
   "metadata": {},
   "outputs": [],
   "source": [
    "\n",
    "k = np.irr(Validus4.totalCF(y))\n",
    "k *100\n",
    "# the IRR is now negative so the scenario impact here is dramatic"
   ]
  },
  {
   "cell_type": "markdown",
   "metadata": {},
   "source": [
    "The results here are pretty dramtic but this is to be expected due to the very high volatilities my model predicted, my model is most definately wrong and not very useful at this stage but with better estimation methods and time hopefully it could become more relevant and representative of reality."
   ]
  }
 ],
 "metadata": {
  "kernelspec": {
   "display_name": "Python 3",
   "language": "python",
   "name": "python3"
  },
  "language_info": {
   "codemirror_mode": {
    "name": "ipython",
    "version": 3
   },
   "file_extension": ".py",
   "mimetype": "text/x-python",
   "name": "python",
   "nbconvert_exporter": "python",
   "pygments_lexer": "ipython3",
   "version": "3.7.3"
  }
 },
 "nbformat": 4,
 "nbformat_minor": 2
}
